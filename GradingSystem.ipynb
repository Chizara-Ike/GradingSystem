{
 "cells": [
  {
   "cell_type": "code",
   "execution_count": 1,
   "id": "2d3d53e9",
   "metadata": {},
   "outputs": [
    {
     "name": "stdout",
     "output_type": "stream",
     "text": [
      "Student 1\n",
      "F\n",
      "Student 2\n",
      "A\n",
      "Student 3\n",
      "C\n",
      "Student 4\n",
      "B\n",
      "Student 5\n",
      "D\n"
     ]
    }
   ],
   "source": [
    "def grading_system(score):\n",
    "         \n",
    "        if score >= 90 and score <= 100:\n",
    "            print(\"A\")\n",
    "        elif score >= 70 and score <= 89:\n",
    "            print(\"B\")\n",
    "        elif score >= 65 and score <= 69:\n",
    "            print(\"C\")\n",
    "        elif score >= 50 and score <= 64:\n",
    "            print(\"D\")\n",
    "        elif score >= 40 and score <= 49:\n",
    "            print(\"E\")\n",
    "        else:\n",
    "            print(\"F\")\n",
    "\n",
    "\n",
    "for i in range (1, 6):\n",
    "    try:\n",
    "        print(\"Student\", i)\n",
    "        score = int(input(\"Enter your score: \"))\n",
    "   \n",
    "    \n",
    "        if score < 0 or score > 100:\n",
    "            print(\"Score should be between 0 and 100\")\n",
    "\n",
    "        else:\n",
    "             grading_system(score)\n",
    "  \n",
    "    except ValueError:\n",
    "        print(\"Incorrect data type. Please enter an integer\")\n"
   ]
  }
 ],
 "metadata": {
  "kernelspec": {
   "display_name": "Python 3",
   "language": "python",
   "name": "python3"
  },
  "language_info": {
   "codemirror_mode": {
    "name": "ipython",
    "version": 3
   },
   "file_extension": ".py",
   "mimetype": "text/x-python",
   "name": "python",
   "nbconvert_exporter": "python",
   "pygments_lexer": "ipython3",
   "version": "3.12.1"
  }
 },
 "nbformat": 4,
 "nbformat_minor": 5
}
